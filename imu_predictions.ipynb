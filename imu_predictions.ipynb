{
  "nbformat": 4,
  "nbformat_minor": 0,
  "metadata": {
    "colab": {
      "name": "imu_predictions.ipynb",
      "version": "0.3.2",
      "provenance": [],
      "collapsed_sections": []
    },
    "kernelspec": {
      "name": "python3",
      "display_name": "Python 3"
    }
  },
  "cells": [
    {
      "metadata": {
        "id": "gfHHp_k8bOX9",
        "colab_type": "code",
        "colab": {}
      },
      "cell_type": "code",
      "source": [
        "import numpy as np\n",
        "from sklearn import svm\n",
        "from google.colab import files\n",
        "import ast"
      ],
      "execution_count": 0,
      "outputs": []
    },
    {
      "metadata": {
        "id": "iTvxIibfbXK4",
        "colab_type": "code",
        "outputId": "56ac2b8a-e29b-4fa4-e6c2-d47f8407c5f7",
        "colab": {
          "resources": {
            "http://localhost:8080/nbextensions/google.colab/files.js": {
              "data": "Ly8gQ29weXJpZ2h0IDIwMTcgR29vZ2xlIExMQwovLwovLyBMaWNlbnNlZCB1bmRlciB0aGUgQXBhY2hlIExpY2Vuc2UsIFZlcnNpb24gMi4wICh0aGUgIkxpY2Vuc2UiKTsKLy8geW91IG1heSBub3QgdXNlIHRoaXMgZmlsZSBleGNlcHQgaW4gY29tcGxpYW5jZSB3aXRoIHRoZSBMaWNlbnNlLgovLyBZb3UgbWF5IG9idGFpbiBhIGNvcHkgb2YgdGhlIExpY2Vuc2UgYXQKLy8KLy8gICAgICBodHRwOi8vd3d3LmFwYWNoZS5vcmcvbGljZW5zZXMvTElDRU5TRS0yLjAKLy8KLy8gVW5sZXNzIHJlcXVpcmVkIGJ5IGFwcGxpY2FibGUgbGF3IG9yIGFncmVlZCB0byBpbiB3cml0aW5nLCBzb2Z0d2FyZQovLyBkaXN0cmlidXRlZCB1bmRlciB0aGUgTGljZW5zZSBpcyBkaXN0cmlidXRlZCBvbiBhbiAiQVMgSVMiIEJBU0lTLAovLyBXSVRIT1VUIFdBUlJBTlRJRVMgT1IgQ09ORElUSU9OUyBPRiBBTlkgS0lORCwgZWl0aGVyIGV4cHJlc3Mgb3IgaW1wbGllZC4KLy8gU2VlIHRoZSBMaWNlbnNlIGZvciB0aGUgc3BlY2lmaWMgbGFuZ3VhZ2UgZ292ZXJuaW5nIHBlcm1pc3Npb25zIGFuZAovLyBsaW1pdGF0aW9ucyB1bmRlciB0aGUgTGljZW5zZS4KCi8qKgogKiBAZmlsZW92ZXJ2aWV3IEhlbHBlcnMgZm9yIGdvb2dsZS5jb2xhYiBQeXRob24gbW9kdWxlLgogKi8KKGZ1bmN0aW9uKHNjb3BlKSB7CmZ1bmN0aW9uIHNwYW4odGV4dCwgc3R5bGVBdHRyaWJ1dGVzID0ge30pIHsKICBjb25zdCBlbGVtZW50ID0gZG9jdW1lbnQuY3JlYXRlRWxlbWVudCgnc3BhbicpOwogIGVsZW1lbnQudGV4dENvbnRlbnQgPSB0ZXh0OwogIGZvciAoY29uc3Qga2V5IG9mIE9iamVjdC5rZXlzKHN0eWxlQXR0cmlidXRlcykpIHsKICAgIGVsZW1lbnQuc3R5bGVba2V5XSA9IHN0eWxlQXR0cmlidXRlc1trZXldOwogIH0KICByZXR1cm4gZWxlbWVudDsKfQoKLy8gTWF4IG51bWJlciBvZiBieXRlcyB3aGljaCB3aWxsIGJlIHVwbG9hZGVkIGF0IGEgdGltZS4KY29uc3QgTUFYX1BBWUxPQURfU0laRSA9IDEwMCAqIDEwMjQ7Ci8vIE1heCBhbW91bnQgb2YgdGltZSB0byBibG9jayB3YWl0aW5nIGZvciB0aGUgdXNlci4KY29uc3QgRklMRV9DSEFOR0VfVElNRU9VVF9NUyA9IDMwICogMTAwMDsKCmZ1bmN0aW9uIF91cGxvYWRGaWxlcyhpbnB1dElkLCBvdXRwdXRJZCkgewogIGNvbnN0IHN0ZXBzID0gdXBsb2FkRmlsZXNTdGVwKGlucHV0SWQsIG91dHB1dElkKTsKICBjb25zdCBvdXRwdXRFbGVtZW50ID0gZG9jdW1lbnQuZ2V0RWxlbWVudEJ5SWQob3V0cHV0SWQpOwogIC8vIENhY2hlIHN0ZXBzIG9uIHRoZSBvdXRwdXRFbGVtZW50IHRvIG1ha2UgaXQgYXZhaWxhYmxlIGZvciB0aGUgbmV4dCBjYWxsCiAgLy8gdG8gdXBsb2FkRmlsZXNDb250aW51ZSBmcm9tIFB5dGhvbi4KICBvdXRwdXRFbGVtZW50LnN0ZXBzID0gc3RlcHM7CgogIHJldHVybiBfdXBsb2FkRmlsZXNDb250aW51ZShvdXRwdXRJZCk7Cn0KCi8vIFRoaXMgaXMgcm91Z2hseSBhbiBhc3luYyBnZW5lcmF0b3IgKG5vdCBzdXBwb3J0ZWQgaW4gdGhlIGJyb3dzZXIgeWV0KSwKLy8gd2hlcmUgdGhlcmUgYXJlIG11bHRpcGxlIGFzeW5jaHJvbm91cyBzdGVwcyBhbmQgdGhlIFB5dGhvbiBzaWRlIGlzIGdvaW5nCi8vIHRvIHBvbGwgZm9yIGNvbXBsZXRpb24gb2YgZWFjaCBzdGVwLgovLyBUaGlzIHVzZXMgYSBQcm9taXNlIHRvIGJsb2NrIHRoZSBweXRob24gc2lkZSBvbiBjb21wbGV0aW9uIG9mIGVhY2ggc3RlcCwKLy8gdGhlbiBwYXNzZXMgdGhlIHJlc3VsdCBvZiB0aGUgcHJldmlvdXMgc3RlcCBhcyB0aGUgaW5wdXQgdG8gdGhlIG5leHQgc3RlcC4KZnVuY3Rpb24gX3VwbG9hZEZpbGVzQ29udGludWUob3V0cHV0SWQpIHsKICBjb25zdCBvdXRwdXRFbGVtZW50ID0gZG9jdW1lbnQuZ2V0RWxlbWVudEJ5SWQob3V0cHV0SWQpOwogIGNvbnN0IHN0ZXBzID0gb3V0cHV0RWxlbWVudC5zdGVwczsKCiAgY29uc3QgbmV4dCA9IHN0ZXBzLm5leHQob3V0cHV0RWxlbWVudC5sYXN0UHJvbWlzZVZhbHVlKTsKICByZXR1cm4gUHJvbWlzZS5yZXNvbHZlKG5leHQudmFsdWUucHJvbWlzZSkudGhlbigodmFsdWUpID0+IHsKICAgIC8vIENhY2hlIHRoZSBsYXN0IHByb21pc2UgdmFsdWUgdG8gbWFrZSBpdCBhdmFpbGFibGUgdG8gdGhlIG5leHQKICAgIC8vIHN0ZXAgb2YgdGhlIGdlbmVyYXRvci4KICAgIG91dHB1dEVsZW1lbnQubGFzdFByb21pc2VWYWx1ZSA9IHZhbHVlOwogICAgcmV0dXJuIG5leHQudmFsdWUucmVzcG9uc2U7CiAgfSk7Cn0KCi8qKgogKiBHZW5lcmF0b3IgZnVuY3Rpb24gd2hpY2ggaXMgY2FsbGVkIGJldHdlZW4gZWFjaCBhc3luYyBzdGVwIG9mIHRoZSB1cGxvYWQKICogcHJvY2Vzcy4KICogQHBhcmFtIHtzdHJpbmd9IGlucHV0SWQgRWxlbWVudCBJRCBvZiB0aGUgaW5wdXQgZmlsZSBwaWNrZXIgZWxlbWVudC4KICogQHBhcmFtIHtzdHJpbmd9IG91dHB1dElkIEVsZW1lbnQgSUQgb2YgdGhlIG91dHB1dCBkaXNwbGF5LgogKiBAcmV0dXJuIHshSXRlcmFibGU8IU9iamVjdD59IEl0ZXJhYmxlIG9mIG5leHQgc3RlcHMuCiAqLwpmdW5jdGlvbiogdXBsb2FkRmlsZXNTdGVwKGlucHV0SWQsIG91dHB1dElkKSB7CiAgY29uc3QgaW5wdXRFbGVtZW50ID0gZG9jdW1lbnQuZ2V0RWxlbWVudEJ5SWQoaW5wdXRJZCk7CiAgaW5wdXRFbGVtZW50LmRpc2FibGVkID0gZmFsc2U7CgogIGNvbnN0IG91dHB1dEVsZW1lbnQgPSBkb2N1bWVudC5nZXRFbGVtZW50QnlJZChvdXRwdXRJZCk7CiAgb3V0cHV0RWxlbWVudC5pbm5lckhUTUwgPSAnJzsKCiAgY29uc3QgcGlja2VkUHJvbWlzZSA9IG5ldyBQcm9taXNlKChyZXNvbHZlKSA9PiB7CiAgICBpbnB1dEVsZW1lbnQuYWRkRXZlbnRMaXN0ZW5lcignY2hhbmdlJywgKGUpID0+IHsKICAgICAgcmVzb2x2ZShlLnRhcmdldC5maWxlcyk7CiAgICB9KTsKICB9KTsKCiAgY29uc3QgY2FuY2VsID0gZG9jdW1lbnQuY3JlYXRlRWxlbWVudCgnYnV0dG9uJyk7CiAgaW5wdXRFbGVtZW50LnBhcmVudEVsZW1lbnQuYXBwZW5kQ2hpbGQoY2FuY2VsKTsKICBjYW5jZWwudGV4dENvbnRlbnQgPSAnQ2FuY2VsIHVwbG9hZCc7CiAgY29uc3QgY2FuY2VsUHJvbWlzZSA9IG5ldyBQcm9taXNlKChyZXNvbHZlKSA9PiB7CiAgICBjYW5jZWwub25jbGljayA9ICgpID0+IHsKICAgICAgcmVzb2x2ZShudWxsKTsKICAgIH07CiAgfSk7CgogIC8vIENhbmNlbCB1cGxvYWQgaWYgdXNlciBoYXNuJ3QgcGlja2VkIGFueXRoaW5nIGluIHRpbWVvdXQuCiAgY29uc3QgdGltZW91dFByb21pc2UgPSBuZXcgUHJvbWlzZSgocmVzb2x2ZSkgPT4gewogICAgc2V0VGltZW91dCgoKSA9PiB7CiAgICAgIHJlc29sdmUobnVsbCk7CiAgICB9LCBGSUxFX0NIQU5HRV9USU1FT1VUX01TKTsKICB9KTsKCiAgLy8gV2FpdCBmb3IgdGhlIHVzZXIgdG8gcGljayB0aGUgZmlsZXMuCiAgY29uc3QgZmlsZXMgPSB5aWVsZCB7CiAgICBwcm9taXNlOiBQcm9taXNlLnJhY2UoW3BpY2tlZFByb21pc2UsIHRpbWVvdXRQcm9taXNlLCBjYW5jZWxQcm9taXNlXSksCiAgICByZXNwb25zZTogewogICAgICBhY3Rpb246ICdzdGFydGluZycsCiAgICB9CiAgfTsKCiAgaWYgKCFmaWxlcykgewogICAgcmV0dXJuIHsKICAgICAgcmVzcG9uc2U6IHsKICAgICAgICBhY3Rpb246ICdjb21wbGV0ZScsCiAgICAgIH0KICAgIH07CiAgfQoKICBjYW5jZWwucmVtb3ZlKCk7CgogIC8vIERpc2FibGUgdGhlIGlucHV0IGVsZW1lbnQgc2luY2UgZnVydGhlciBwaWNrcyBhcmUgbm90IGFsbG93ZWQuCiAgaW5wdXRFbGVtZW50LmRpc2FibGVkID0gdHJ1ZTsKCiAgZm9yIChjb25zdCBmaWxlIG9mIGZpbGVzKSB7CiAgICBjb25zdCBsaSA9IGRvY3VtZW50LmNyZWF0ZUVsZW1lbnQoJ2xpJyk7CiAgICBsaS5hcHBlbmQoc3BhbihmaWxlLm5hbWUsIHtmb250V2VpZ2h0OiAnYm9sZCd9KSk7CiAgICBsaS5hcHBlbmQoc3BhbigKICAgICAgICBgKCR7ZmlsZS50eXBlIHx8ICduL2EnfSkgLSAke2ZpbGUuc2l6ZX0gYnl0ZXMsIGAgKwogICAgICAgIGBsYXN0IG1vZGlmaWVkOiAkewogICAgICAgICAgICBmaWxlLmxhc3RNb2RpZmllZERhdGUgPyBmaWxlLmxhc3RNb2RpZmllZERhdGUudG9Mb2NhbGVEYXRlU3RyaW5nKCkgOgogICAgICAgICAgICAgICAgICAgICAgICAgICAgICAgICAgICAnbi9hJ30gLSBgKSk7CiAgICBjb25zdCBwZXJjZW50ID0gc3BhbignMCUgZG9uZScpOwogICAgbGkuYXBwZW5kQ2hpbGQocGVyY2VudCk7CgogICAgb3V0cHV0RWxlbWVudC5hcHBlbmRDaGlsZChsaSk7CgogICAgY29uc3QgZmlsZURhdGFQcm9taXNlID0gbmV3IFByb21pc2UoKHJlc29sdmUpID0+IHsKICAgICAgY29uc3QgcmVhZGVyID0gbmV3IEZpbGVSZWFkZXIoKTsKICAgICAgcmVhZGVyLm9ubG9hZCA9IChlKSA9PiB7CiAgICAgICAgcmVzb2x2ZShlLnRhcmdldC5yZXN1bHQpOwogICAgICB9OwogICAgICByZWFkZXIucmVhZEFzQXJyYXlCdWZmZXIoZmlsZSk7CiAgICB9KTsKICAgIC8vIFdhaXQgZm9yIHRoZSBkYXRhIHRvIGJlIHJlYWR5LgogICAgbGV0IGZpbGVEYXRhID0geWllbGQgewogICAgICBwcm9taXNlOiBmaWxlRGF0YVByb21pc2UsCiAgICAgIHJlc3BvbnNlOiB7CiAgICAgICAgYWN0aW9uOiAnY29udGludWUnLAogICAgICB9CiAgICB9OwoKICAgIC8vIFVzZSBhIGNodW5rZWQgc2VuZGluZyB0byBhdm9pZCBtZXNzYWdlIHNpemUgbGltaXRzLiBTZWUgYi82MjExNTY2MC4KICAgIGxldCBwb3NpdGlvbiA9IDA7CiAgICB3aGlsZSAocG9zaXRpb24gPCBmaWxlRGF0YS5ieXRlTGVuZ3RoKSB7CiAgICAgIGNvbnN0IGxlbmd0aCA9IE1hdGgubWluKGZpbGVEYXRhLmJ5dGVMZW5ndGggLSBwb3NpdGlvbiwgTUFYX1BBWUxPQURfU0laRSk7CiAgICAgIGNvbnN0IGNodW5rID0gbmV3IFVpbnQ4QXJyYXkoZmlsZURhdGEsIHBvc2l0aW9uLCBsZW5ndGgpOwogICAgICBwb3NpdGlvbiArPSBsZW5ndGg7CgogICAgICBjb25zdCBiYXNlNjQgPSBidG9hKFN0cmluZy5mcm9tQ2hhckNvZGUuYXBwbHkobnVsbCwgY2h1bmspKTsKICAgICAgeWllbGQgewogICAgICAgIHJlc3BvbnNlOiB7CiAgICAgICAgICBhY3Rpb246ICdhcHBlbmQnLAogICAgICAgICAgZmlsZTogZmlsZS5uYW1lLAogICAgICAgICAgZGF0YTogYmFzZTY0LAogICAgICAgIH0sCiAgICAgIH07CiAgICAgIHBlcmNlbnQudGV4dENvbnRlbnQgPQogICAgICAgICAgYCR7TWF0aC5yb3VuZCgocG9zaXRpb24gLyBmaWxlRGF0YS5ieXRlTGVuZ3RoKSAqIDEwMCl9JSBkb25lYDsKICAgIH0KICB9CgogIC8vIEFsbCBkb25lLgogIHlpZWxkIHsKICAgIHJlc3BvbnNlOiB7CiAgICAgIGFjdGlvbjogJ2NvbXBsZXRlJywKICAgIH0KICB9Owp9CgpzY29wZS5nb29nbGUgPSBzY29wZS5nb29nbGUgfHwge307CnNjb3BlLmdvb2dsZS5jb2xhYiA9IHNjb3BlLmdvb2dsZS5jb2xhYiB8fCB7fTsKc2NvcGUuZ29vZ2xlLmNvbGFiLl9maWxlcyA9IHsKICBfdXBsb2FkRmlsZXMsCiAgX3VwbG9hZEZpbGVzQ29udGludWUsCn07Cn0pKHNlbGYpOwo=",
              "ok": true,
              "headers": [
                [
                  "content-type",
                  "application/javascript"
                ]
              ],
              "status": 200,
              "status_text": ""
            }
          },
          "base_uri": "https://localhost:8080/",
          "height": 295
        }
      },
      "cell_type": "code",
      "source": [
        "uploaded = files.upload()\n",
        "name = \"\"\n",
        "for fn in uploaded.keys():\n",
        "  print('User uploaded file \"{name}\" with length {length} bytes'.format(\n",
        "      name=fn, length=len(uploaded[fn])))"
      ],
      "execution_count": 24,
      "outputs": [
        {
          "output_type": "display_data",
          "data": {
            "text/html": [
              "\n",
              "     <input type=\"file\" id=\"files-45001d1e-defb-49b4-b723-af374b334d71\" name=\"files[]\" multiple disabled />\n",
              "     <output id=\"result-45001d1e-defb-49b4-b723-af374b334d71\">\n",
              "      Upload widget is only available when the cell has been executed in the\n",
              "      current browser session. Please rerun this cell to enable.\n",
              "      </output>\n",
              "      <script src=\"/nbextensions/google.colab/files.js\"></script> "
            ],
            "text/plain": [
              "<IPython.core.display.HTML object>"
            ]
          },
          "metadata": {
            "tags": []
          }
        },
        {
          "output_type": "stream",
          "text": [
            "Saving front_down_right.txt to front_down_right.txt\n",
            "Saving front_down_left.txt to front_down_left.txt\n",
            "Saving to_the_right.txt to to_the_right.txt\n",
            "Saving to_the_left.txt to to_the_left.txt\n",
            "Saving default_flat.txt to default_flat (2).txt\n",
            "User uploaded file \"front_down_right.txt\" with length 17868 bytes\n",
            "User uploaded file \"front_down_left.txt\" with length 19459 bytes\n",
            "User uploaded file \"to_the_right.txt\" with length 19532 bytes\n",
            "User uploaded file \"to_the_left.txt\" with length 18593 bytes\n",
            "User uploaded file \"default_flat.txt\" with length 18097 bytes\n"
          ],
          "name": "stdout"
        }
      ]
    },
    {
      "metadata": {
        "id": "goKEHn0ozSEj",
        "colab_type": "code",
        "colab": {
          "base_uri": "https://localhost:8080/",
          "height": 187
        },
        "outputId": "8eeb9861-f07d-4504-90d9-d03fbcf6c3c5"
      },
      "cell_type": "code",
      "source": [
        "data = None\n",
        "labels = None\n",
        "print(data, labels)\n",
        "for name in uploaded.keys():\n",
        "  arr = np.fromstring(uploaded[name], sep=\", \")\n",
        "  arr = arr.reshape(arr.shape[0]//3, 3)\n",
        "  if data is None:\n",
        "    data = arr\n",
        "  else:\n",
        "    data = np.vstack([data, arr])\n",
        "  lab = np.full(arr.shape[0], name)\n",
        "  if labels is None:\n",
        "    labels = lab\n",
        "  else:\n",
        "    labels = np.concatenate([labels, lab])\n",
        "print(data, data.shape)\n",
        "print(labels, labels.shape)\n"
      ],
      "execution_count": 39,
      "outputs": [
        {
          "output_type": "stream",
          "text": [
            "None None\n",
            "[[ 0.28  9.66  0.27]\n",
            " [ 0.15  9.69  0.19]\n",
            " [ 0.16  9.69  0.27]\n",
            " ...\n",
            " [-0.45  0.15  9.61]\n",
            " [-0.49  0.19  9.59]\n",
            " [-0.52  0.17  9.55]] (5134, 3)\n",
            "['front_down_right.txt' 'front_down_right.txt' 'front_down_right.txt' ...\n",
            " 'default_flat.txt' 'default_flat.txt' 'default_flat.txt'] (5134,)\n"
          ],
          "name": "stdout"
        }
      ]
    },
    {
      "metadata": {
        "id": "vepLKXh3cDbQ",
        "colab_type": "code",
        "outputId": "33c07d6b-b0cd-4a79-9d9b-479b13707bee",
        "colab": {
          "base_uri": "https://localhost:8080/",
          "height": 71
        }
      },
      "cell_type": "code",
      "source": [
        "\n",
        "sss = uploaded[fn]\n",
        "print(sss.strip())\n",
        "a = np.fromstring(sss, sep=', ')\n",
        "print(a, a.shape)"
      ],
      "execution_count": 0,
      "outputs": [
        {
          "output_type": "stream",
          "text": [
            "b'-0.50, 0.17, 9.45,-0.41, 0.18, 9.54,-0.58, 0.14, 9.57,-0.46, 0.14, 9.51,-0.25, 0.13, 9.84,-0.48, 0.15, 9.55,-0.44, 0.14, 9.45,-0.45, 0.18, 9.53,-0.38, 0.19, 9.43,-0.39, 0.11, 9.78,-0.47, 0.15, 9.45,-0.42, 0.19, 9.48,-0.53, 0.17, 9.31,-0.74, 0.14, 9.08,-0.71, 0.08, 9.01,-0.43, 0.18, 9.59,-0.12, 0.24, 10.18,-0.47, 0.19, 9.59,-0.60, 0.16, 9.57,-0.41, 0.17, 9.63,-0.45, 0.17, 9.59,-0.44, 0.16, 9.58,-0.44, 0.17, 9.59,-0.48, 0.17, 9.57,-0.49, 0.18, 9.40,-0.46, 0.16, 9.51,-0.60, 0.17, 9.54,-0.49, 0.18, 9.55,-0.43, 0.14, 9.48,-0.46, 0.16, 9.54,-0.42, 0.20, 9.48,-0.87, -0.11, 9.30,-0.42, 0.14, 9.53,-0.40, 0.14, 9.54,-0.59, 0.16, 9.57,-0.49, 0.18, 9.51,-0.45, 0.18, 9.57,-0.46, 0.17, 9.53,-0.44, 0.17, 9.50,-0.44, 0.18, 9.46,-0.46, 0.17, 9.49,-0.45, 0.19, 9.48,-0.59, 0.17, 9.57,-0.48, 0.15, 9.56,-0.46, 0.17, 9.52,-0.43, 0.17, 9.56,-0.45, 0.18, 9.56,-0.48, 0.16, 9.56,-0.47, 0.03, 9.54,-0.61, 0.18, 9.47,-0.44, 0.18, 9.56,-0.44, 0.16, 9.51,-0.44, 0.19, 9.49,-0.43, 0.16, 9.55,-0.43, 0.17, 9.52,-0.43, 0.15, 9.55,-0.44, 0.18, 9.51,-0.47, 0.18, 9.52,-0.46, 0.20, 9.49,-0.48, 0.17, 9.52,-0.47, 0.17, 9.55,-0.49, 0.18, 9.55,-0.48, 0.16, 9.55,-0.45, 0.19, 9.50,-0.46, 0.14, 9.59,-0.44, 0.18, 9.52,-0.45, 0.16, 9.54,-0.45, 0.16, 9.57,-0.47, 0.17, 9.56,-0.49, 0.19, 9.55,-0.47, 0.17, 9.51,-0.48, 0.15, 9.56,-0.32, 0.16, 9.50,-0.46, 0.17, 9.53,-0.45, 0.16, 9.54,-0.46, 0.17, 9.52,-0.45, 0.18, 9.49,-0.45, 0.14, 9.50,-0.47, 0.18, 9.54,-0.46, 0.30, 9.53,-0.43, 0.16, 9.54,-0.45, 0.18, 9.51,-0.47, 0.19, 9.59,-0.47, 0.17, 9.54,-0.44, 0.17, 9.48,-0.48, 0.21, 9.54,-0.48, 0.17, 9.60,-0.47, 0.16, 9.55,-0.33, 0.15, 9.57,-0.45, 0.15, 9.50,-0.44, 0.18, 9.56,-0.48, 0.17, 9.54,-0.47, 0.18, 9.49,-0.46, 0.16, 9.57,-0.47, 0.16, 9.56,-0.50, 0.13, 9.55,-0.39, 0.16, 9.51,-0.42, 0.18, 9.58,-0.43, 0.16, 9.48,-0.45, 0.14, 9.48,-0.37, 0.14, 9.63,-0.41, 0.20, 9.64,-0.46, 0.29, 9.53,-0.46, 0.16, 9.47,-0.45, 0.18, 9.52,-0.53, 0.15, 9.48,-0.43, 0.20, 9.53,-0.45, 0.19, 9.50,-0.45, 0.20, 9.56,-0.48, 0.17, 9.65,-0.47, 0.00, 9.58,-0.43, 0.19, 9.53,-0.44, 0.17, 9.57,-0.47, 0.16, 9.49,-0.44, 0.19, 9.52,-0.47, 0.14, 9.50,-0.45, 0.14, 9.59,-0.46, 0.17, 9.54,-0.45, 0.17, 9.52,-0.43, 0.17, 9.48,-0.44, 0.18, 9.55,-0.50, 0.18, 9.61,-0.48, 0.16, 9.56,-0.44, 0.14, 9.57,-0.46, 0.16, 9.59,-0.47, 0.15, 9.60,-0.45, 0.17, 9.57,-0.44, 0.15, 9.50,-0.46, 0.18, 9.59,-0.48, 0.19, 9.55,-0.47, 0.17, 9.57,-0.47, 0.15, 9.53,-0.47, 0.18, 9.55,-0.46, 0.20, 9.56,-0.42, 0.14, 9.52,-0.46, 0.16, 9.49,-0.48, 0.17, 9.58,-0.48, 0.18, 9.56,-0.48, 0.16, 9.56,-0.49, 0.17, 9.54,-0.45, 0.20, 9.52,-0.45, 0.14, 9.57,-0.43, 0.16, 9.55,-0.42, 0.11, 9.65,-0.45, 0.15, 9.60,-0.51, 0.22, 9.56,-0.47, 0.16, 9.61,-0.46, 0.17, 9.52,-0.44, 0.17, 9.55,-0.34, 0.21, 9.60,-0.45, 0.20, 9.63,-0.43, 0.17, 9.58,-0.49, 0.17, 9.69,-0.49, 0.18, 9.60,-0.43, 0.19, 9.52,-0.44, 0.20, 9.53,-0.61, 0.16, 9.55,-0.49, 0.18, 9.63,-0.50, 0.20, 9.65,-0.42, 0.19, 9.57,-0.46, 0.20, 9.62,-0.46, 0.18, 9.62,-0.50, 0.19, 9.62,-0.47, 0.18, 9.61,-0.46, 0.16, 9.58,-0.47, 0.15, 9.60,-0.45, 0.19, 9.65,-0.49, 0.18, 9.61,-0.49, 0.18, 9.58,-0.49, 0.17, 9.66,-0.48, 0.17, 9.63,-0.61, 0.20, 9.57,-0.49, 0.19, 9.63,-0.45, 0.19, 9.63,-0.43, 0.17, 9.65,-0.43, 0.18, 9.61,-0.48, 0.20, 9.60,-0.46, 0.16, 9.61,-0.46, 0.16, 9.58,-0.32, 0.14, 9.63,-0.45, 0.18, 9.57,-0.46, 0.20, 9.64,-0.43, 0.21, 9.57,-0.45, 0.22, 9.65,-0.45, 0.17, 9.58,-0.45, 0.18, 9.55,-0.48, 0.18, 9.57,-0.25, 0.14, 10.06,-0.47, 0.20, 9.58,-0.45, 0.21, 9.58,-0.54, 0.20, 9.38,-0.48, 0.18, 9.60,-0.45, 0.20, 9.58,-0.46, 0.18, 9.63,-0.33, 0.16, 9.53,-0.48, 0.19, 9.53,-0.44, 0.17, 9.58,-0.43, 0.16, 9.49,-0.41, 0.16, 9.61,-0.45, 0.19, 9.57,-0.47, 0.17, 9.56,-0.46, 0.18, 9.51,-0.49, 0.19, 9.60,-0.47, 0.17, 9.55,-0.45, 0.19, 9.57,-0.47, 0.17, 9.39,-0.48, 0.17, 9.61,-0.49, 0.18, 9.56,-0.45, 0.19, 9.61,-0.47, 0.19, 9.47,-0.43, 0.18, 9.50,-0.47, 0.19, 9.52,-0.44, 0.19, 9.55,-0.42, 0.00, 9.56,-0.36, 0.17, 9.51,-0.47, 0.19, 9.47,-0.47, 0.19, 9.52,-0.44, 0.18, 9.60,-0.50, 0.19, 9.52,-0.45, 0.18, 9.53,-0.45, 0.16, 9.52,-0.47, 0.22, 9.63,-0.50, 0.17, 9.55,-0.44, 0.18, 9.54,-0.46, 0.17, 9.56,-0.49, 0.18, 9.53,-0.46, 0.03, 9.56,-0.35, 0.17, 9.56,-0.47, 0.18, 9.59,-0.45, 0.18, 9.56,-0.45, 0.18, 9.57,-0.45, 0.17, 9.49,-0.45, 0.22, 9.56,-0.41, 0.18, 9.53,-0.49, 0.19, 9.54,-0.45, 0.14, 9.48,-0.44, 0.15, 9.55,-0.45, 0.16, 9.52,-0.47, 0.20, 9.56,-0.45, 0.17, 9.51,-0.61, 0.19, 9.54,-0.46, 0.20, 9.43,-0.47, 0.18, 9.63,-0.41, 0.18, 9.53,-0.48, 0.17, 9.52,-0.44, 0.18, 9.60,-0.46, 0.21, 9.50,-0.46, 0.19, 9.52,-0.48, 0.19, 9.51,-0.46, 0.17, 9.49,-0.44, 0.16, 9.52,-0.49, 0.17, 9.52,-0.47, 0.16, 9.53,-0.42, 0.16, 9.47,-0.49, 0.17, 9.44,-0.42, 0.19, 9.47,-0.47, 0.19, 9.55,-0.43, 0.16, 9.59,-0.45, 0.16, 9.56,-0.45, 0.21, 9.53,-0.50, 0.17, 9.54,-0.33, 0.16, 9.54,-0.48, 0.17, 9.62,-0.47, 0.19, 9.60,-0.46, 0.19, 9.57,-0.47, 0.19, 9.54,-0.46, 0.17, 9.63,-0.47, 0.19, 9.62,-0.46, 0.16, 9.57,-0.58, 0.15, 9.53,-0.51, 0.19, 9.47,-0.44, 0.17, 9.54,-0.45, 0.18, 9.53,-0.45, 0.18, 9.58,-0.45, 0.18, 9.56,-0.33, 0.20, 9.61,-0.42, 0.19, 9.59,-0.43, 0.18, 9.52,-0.48, 0.10, 9.46,-0.58, 0.22, 9.38,-0.45, 0.20, 9.52,-0.46, 0.19, 9.52,-0.66, 0.23, 9.40,-0.44, 0.16, 9.61,-0.45, 0.20, 9.62,-0.48, 0.16, 9.60,-0.47, 0.21, 9.56,-0.46, 0.19, 9.58,-0.43, 0.17, 9.55,-0.43, 0.17, 9.58,-0.46, 0.18, 9.57,-0.60, 0.17, 9.61,-0.48, 0.17, 9.59,-0.49, 0.15, 9.55,-0.44, 0.17, 9.53,-0.50, 0.18, 9.55,-0.49, 0.16, 9.56,-0.39, 0.10, 10.10,-0.60, 0.18, 9.52,-0.43, 0.16, 9.50,-0.42, 0.19, 9.47,-0.48, 0.17, 9.58,-0.44, 0.19, 9.55,-0.43, 0.18, 9.48,-0.44, 0.14, 9.53,-0.50, 0.16, 9.52,-0.52, 0.16, 9.53,-0.50, 0.19, 9.55,-0.46, 0.17, 9.47,-0.45, 0.18, 9.59,-0.44, 0.18, 9.62,-0.43, 0.17, 9.55,-0.61, 0.16, 9.57,-0.46, 0.16, 9.64,-0.43, 0.15, 9.64,-0.47, 0.15, 9.59,-0.44, 0.17, 9.58,-0.44, 0.17, 9.62,-0.51, 0.17, 9.57,-0.32, 0.18, 9.60,-0.43, 0.15, 9.55,-0.49, 0.20, 9.56,-0.43, 0.22, 9.54,-0.44, 0.20, 9.61,-0.44, 0.19, 9.55,-0.43, 0.16, 9.55,-0.45, 0.15, 9.59,-0.47, 0.14, 9.62,-0.45, 0.18, 9.55,-0.45, 0.19, 9.52,-0.48, 0.17, 9.53,-0.46, 0.16, 9.53,-0.43, 0.21, 9.54,-0.33, 0.19, 9.52,-0.48, 0.18, 9.51,-0.51, 0.16, 9.50,-0.50, 0.15, 9.55,-0.46, 0.15, 9.56,-0.45, 0.17, 9.44,-0.46, 0.15, 9.55,-0.49, 0.16, 9.61,-0.43, 0.14, 9.48,-0.46, 0.18, 9.56,-0.45, 0.16, 9.57,-0.48, 0.18, 9.55,-0.47, 0.18, 9.61,-0.50, 0.17, 9.59,-0.45, 0.14, 9.49,-0.45, 0.17, 9.48,-0.46, 0.16, 9.53,-0.48, 0.17, 9.52,-0.47, 0.17, 9.60,-0.50, 0.17, 9.55,-0.59, 0.18, 9.55,-0.49, 0.15, 9.52,-0.47, 0.19, 9.54,-0.47, 0.16, 9.58,-0.46, 0.17, 9.60,-0.44, 0.19, 9.50,-0.49, 0.16, 9.53,-0.41, 0.19, 9.57,-0.42, 0.14, 9.53,-0.43, 0.17, 9.58,-0.43, 0.17, 9.58,-0.49, 0.18, 9.57,-0.47, 0.00, 9.55,-0.33, 0.14, 9.59,-0.47, 0.14, 9.54,-0.50, 0.16, 9.59,-0.49, 0.16, 9.54,-0.48, 0.18, 9.60,-0.45, 0.17, 9.63,-0.47, 0.16, 9.61,-0.45, 0.17, 9.58,-0.43, 0.19, 9.49,-0.44, 0.16, 9.53,-0.45, 0.14, 9.49,-0.45, 0.18, 9.52,-0.46, 0.17, 9.55,-0.47, 0.16, 9.52,-0.46, 0.14, 9.56,-0.47, 0.15, 9.55,-0.48, 0.18, 9.60,-0.49, 0.17, 9.57,-0.46, 0.17, 9.54,-0.49, 0.17, 9.52,-0.45, 0.17, 9.57,-0.47, 0.15, 9.57,-0.47, 0.16, 9.51,-0.47, 0.15, 9.54,-0.43, 0.18, 9.57,-0.47, 0.20, 9.55,-0.41, 0.18, 9.58,-0.47, 0.21, 9.53,-0.47, 0.16, 9.59,-0.44, 0.17, 9.53,-0.45, 0.16, 9.52,-0.45, 0.16, 9.56,-0.48, 0.18, 9.57,-0.47, 0.18, 9.55,-0.43, 0.14, 9.56,-0.34, 0.17, 9.55,-0.44, 0.15, 9.49,-0.47, 0.18, 9.59,-0.59, 0.13, 9.38,-0.43, 0.14, 9.53,-0.47, 0.18, 9.58,-0.50, 0.16, 9.60,-0.42, 0.15, 9.67,-0.45, 0.16, 9.62,-0.47, 0.20, 9.55,-0.46, 0.12, 9.51,-0.47, 0.18, 9.55,-0.47, 0.18, 9.53,-0.32, 0.14, 9.55,-0.45, 0.17, 9.51,-0.47, 0.16, 9.49,0.02, 0.12, 10.46,-0.47, 0.20, 9.59,-0.44, 0.14, 9.59,-0.43, 0.16, 9.59,-0.47, 0.13, 9.53,-0.43, 0.16, 9.52,-0.42, 0.17, 9.59,-0.07, 0.08, 10.32,-0.29, 0.13, 9.69,-0.41, 0.17, 9.56,-0.45, 0.22, 9.64,-0.47, 0.13, 9.61,-0.48, 0.15, 9.54,-0.49, 0.12, 9.54,-0.40, 0.12, 9.49,-0.45, 0.21, 9.54,-0.30, 0.05, 9.56,-0.53, 0.26, 9.43,-0.45, 0.11, 9.67,-0.43, 0.19, 9.56,-0.43, 0.11, 9.68,-0.51, 0.17, 9.43,-0.46, 0.16, 9.58,-0.46, 0.15, 9.61,-0.49, 0.18, 9.60,-0.45, 0.14, 9.62,-0.32, 0.08, 9.82,-0.49, 0.16, 9.51,-0.39, 0.18, 9.70,-0.61, 0.25, 9.34,-0.55, 0.25, 9.37,-0.58, 0.21, 9.52,-0.32, 0.15, 9.73,-0.42, 0.17, 9.66,-0.48, 0.20, 9.54,-0.46, 0.19, 9.57,-0.50, 0.19, 9.49,-0.45, 0.17, 9.51,-0.49, 0.16, 9.56,-0.60, 0.15, 9.61,-0.53, 0.22, 9.55,-0.49, 0.15, 9.52,-0.48, 0.18, 9.53,-0.49, 0.18, 9.57,-0.47, 0.14, 9.51,-0.47, 0.17, 9.52,-0.61, 0.15, 9.57,-0.47, 0.17, 9.55,-0.71, 0.14, 9.21,-0.49, 0.25, 9.55,-0.76, 0.23, 9.08,-0.54, 0.11, 9.54,-0.48, 0.14, 9.58,-0.56, 0.18, 9.46,-0.42, 0.07, 9.61,-0.44, 0.10, 9.54,-0.60, 0.18, 9.11,-0.47, 0.28, 9.44,-0.48, 0.18, 9.35,-0.40, 0.17, 9.51,-0.44, 0.11, 9.54,-0.46, 0.22, 9.45,-0.47, 0.09, 9.45,-0.41, 0.14, 9.55,-0.46, 0.15, 9.54,0.18, 0.58, 10.65,-0.50, 0.18, 9.41,-0.48, 0.22, 9.52,-0.51, 0.19, 9.60,-0.45, 0.19, 9.45,-0.56, 0.19, 9.33,-0.48, 0.17, 9.50,-0.32, 0.11, 9.65,-0.61, 0.20, 9.49,-0.55, 0.20, 9.47,-0.51, 0.16, 9.48,-0.50, 0.12, 9.57,-0.48, 0.15, 9.52,-0.44, 0.29, 9.56,-0.46, 0.14, 9.63,-0.48, 0.20, 9.61,-0.47, 0.18, 9.58,-0.47, 0.17, 9.50,-0.47, 0.16, 9.53,-0.46, 0.18, 9.54,-0.41, 0.19, 9.50,-0.36, 0.17, 9.55,-0.48, 0.19, 9.55,-0.44, 0.17, 9.58,-0.47, 0.18, 9.54,-0.44, 0.14, 9.59,-0.43, 0.17, 9.52,-0.47, 0.14, 9.47,-0.49, 0.17, 9.53,-0.45, 0.17, 9.57,-0.47, 0.16, 9.56,-0.47, 0.18, 9.50,-0.43, 0.15, 9.49,-0.45, 0.16, 9.45,-0.43, 0.18, 9.55,-0.50, 0.17, 9.49,-0.45, 0.14, 9.58,-0.47, 0.19, 9.52,-0.45, 0.17, 9.52,-0.44, 0.18, 9.57,-0.41, 0.16, 9.59,-0.47, 0.14, 9.49,-0.45, 0.19, 9.55,-0.50, 0.17, 9.52,-0.44, 0.15, 9.56,-0.47, 0.18, 9.54,-0.61, 0.16, 9.50,-0.46, 0.16, 9.55,-0.45, 0.15, 9.57,-0.42, 0.15, 9.54,-0.46, 0.16, 9.53,-0.47, 0.17, 9.57,-0.43, 0.16, 9.58,-0.48, 0.15, 9.52,-0.48, 0.15, 9.51,-0.45, 0.16, 9.63,-0.43, 0.18, 9.54,-0.43, 0.15, 9.60,-0.42, 0.17, 9.49,-0.42, 0.17, 9.61,-0.44, 0.14, 9.55,-0.44, 0.16, 9.56,-0.42, 0.16, 9.50,-0.47, 0.13, 9.55,-0.47, 0.17, 9.53,-0.33, 0.15, 9.57,-0.48, 0.17, 9.48,-0.49, 0.17, 9.51,-0.46, 0.17, 9.58,-0.48, 0.18, 9.61,-0.47, 0.29, 9.55,-0.42, 0.19, 9.65,-0.44, 0.17, 9.52,-0.41, 0.18, 9.58,-0.44, 0.20, 9.56,-0.46, 0.18, 9.56,-0.42, 0.16, 9.58,-0.33, 0.18, 9.57,-0.49, 0.17, 9.52,-0.48, 0.15, 9.58,-0.44, 0.15, 9.54,-0.42, 0.16, 9.58,-0.41, 0.19, 9.52,-0.32, 0.15, 9.55,-0.50, 0.18, 9.52,-0.48, 0.17, 9.49,-0.44, 0.13, 9.54,-0.17, 0.19, 9.98,-0.43, 0.16, 9.54,-0.31, 0.19, 9.56,-0.45, 0.17, 9.57,-0.44, 0.17, 9.52,-0.46, 0.14, 9.55,-0.44, 0.17, 9.57,-0.42, 0.18, 9.53,-0.47, 0.14, 9.54,-0.49, 0.15, 9.50,-0.46, 0.14, 9.55,-0.44, 0.17, 9.53,-0.45, 0.14, 9.63,-0.45, 0.17, 9.52,-0.33, 0.17, 9.57,-0.49, 0.13, 9.55,-0.47, 0.17, 9.53,-0.46, 0.17, 9.54,-0.51, 0.15, 9.55,-0.45, 0.15, 9.62,-0.45, 0.17, 9.55,-0.46, 0.15, 9.56,-0.43, 0.17, 9.54,-0.45, 0.17, 9.54,-0.47, 0.19, 9.57,-0.42, 0.19, 9.57,-0.43, 0.15, 9.59,-0.43, 0.18, 9.55,-0.46, 0.17, 9.51,-0.46, 0.15, 9.55,-0.42, 0.18, 9.55,-0.43, 0.17, 9.48,-0.45, 0.16, 9.57,-0.47, 0.15, 9.49,-0.47, 0.16, 9.60,-0.48, 0.16, 9.51,-0.47, 0.19, 9.57,-0.49, 0.17, 9.51,-0.46, 0.17, 9.56,-0.43, 0.16, 9.57,-0.59, 0.22, 9.17,-0.43, 0.19, 9.57,-0.44, 0.09, 9.55,-0.47, 0.16, 9.62,-0.46, 0.16, 9.58,-0.48, 0.16, 9.53,-0.32, 0.20, 9.58,-0.44, 0.21, 9.51,-0.47, 0.17, 9.50,-0.47, 0.17, 9.53,-0.46, 0.19, 9.53,-0.48, 0.20, 9.56,-0.44, 0.18, 9.55,-0.44, 0.14, 9.58,-0.46, 0.18, 9.51,-0.43, 0.18, 9.56,-0.47, 0.17, 9.57,-0.44, 0.16, 9.57,-0.47, 0.15, 9.56,-0.32, 0.16, 9.53,-0.43, 0.15, 9.54,-0.49, 0.17, 9.59,-0.46, 0.17, 9.54,-0.48, 0.16, 9.60,-0.49, 0.18, 9.57,-0.44, 0.03, 9.54,-0.50, 0.17, 9.59,-0.49, 0.15, 9.56,-0.49, 0.18, 9.61,-0.47, 0.15, 9.61,-0.48, 0.18, 9.75,-0.49, 0.02, 9.63,-0.31, 0.16, 9.56,-0.47, 0.18, 9.52,-0.43, 0.17, 9.50,-0.48, 0.19, 9.52,-0.48, 0.16, 9.56,-0.48, 0.16, 9.55,-0.60, 0.16, 9.55,-0.47, 0.15, 9.58,-0.46, 0.16, 9.57,-0.46, 0.18, 9.52,-0.43, 0.15, 9.60,-0.43, 0.18, 9.57,-0.45, 0.17, 9.57,-0.46, 0.16, 9.52,-0.39, 0.12, 9.57,-0.48, 0.14, 9.52,-0.48, 0.15, 9.50,-0.47, 0.17, 9.57,-0.51, 0.16, 9.58,-0.32, 0.15, 9.61,-0.47, 0.18, 9.55,-0.43, 0.16, 9.57,-0.44, 0.15, 9.59,-0.47, 0.16, 9.56,-0.42, 0.29, 9.52,-0.47, 0.15, 9.51,-0.42, 0.16, 9.62,-0.47, 0.14, 9.54,-0.47, 0.14, 9.56,-0.47, 0.17, 9.58,-0.48, 0.02, 9.54,-0.49, 0.17, 9.65,-0.45, 0.17, 9.65,-0.47, 0.21, 9.57,-0.46, 0.15, 9.64,-0.46, 0.16, 9.60,-0.42, 0.19, 9.62,-0.32, 0.19, 9.54,-0.47, 0.16, 9.58,-0.48, 0.17, 9.58,-0.49, 0.17, 9.63,-0.46, 0.20, 9.61,-0.42, 0.16, 9.66,-0.45, 0.15, 9.62,-0.48, 0.20, 9.56,-0.48, 0.17, 9.65,-0.46, 0.17, 9.64,-0.47, 0.16, 9.65,-0.45, 0.17, 9.59,-0.47, 0.15, 9.60,-0.42, 0.19, 9.59,-0.44, 0.14, 9.59,-0.44, 0.17, 9.51,-0.46, 0.16, 9.58,-0.44, 0.16, 9.64,-0.49, 0.16, 9.60,-0.47, 0.17, 9.65,-0.43, 0.18, 9.65,-0.44, 0.15, 9.56,-0.46, 0.18, 9.59,-0.46, 0.17, 9.61,-0.47, 0.14, 9.57,-0.60, 0.15, 9.67,-0.46, 0.19, 9.65,-0.44, 0.14, 9.56,-0.47, 0.18, 9.57,-0.47, 0.18, 9.58,-0.48, 0.30, 9.53,-0.51, 0.17, 9.59,-0.51, 0.17, 9.53,-0.47, 0.18, 9.61,-0.44, 0.19, 9.60,-0.48, 0.16, 9.56,-0.51, 0.16, 9.62,-0.60, 0.17, 9.62,-0.46, 0.16, 9.58,-0.46, 0.18, 9.58,-0.47, 0.17, 9.58,-0.48, 0.17, 9.59,-0.47, 0.29, 9.62,-0.50, 0.16, 9.62,-0.45, 0.15, 9.64,-0.46, 0.15, 9.63,-0.44, 0.16, 9.58,-0.46, 0.15, 9.62,-0.50, 0.20, 9.61,-0.43, 0.15, 9.58,-0.46, 0.19, 9.55,-0.46, 0.16, 9.58,-0.43, 0.16, 9.57,-0.45, 0.17, 9.59,-0.47, 0.17, 9.60,-0.48, 0.16, 9.56,-0.47, 0.15, 9.59,-0.46, 0.16, 9.60,-0.46, 0.17, 9.61,-0.47, 0.17, 9.58,-0.43, 0.17, 9.58,-0.44, 0.15, 9.63,-0.45, 0.15, 9.56,-0.45, 0.15, 9.59,-0.50, 0.15, 9.62,-0.46, 0.18, 9.61,-0.49, 0.17, 9.61,-0.46, 0.16, 9.58,-0.44, 0.15, 9.60,-0.45, 0.17, 9.63,-0.42, 0.17, 9.59,-0.46, 0.16, 9.56,-0.42, 0.16, 9.55,-0.48, 0.18, 9.55,-0.46, 0.18, 9.64,-0.49, 0.16, 9.65,-0.46, 0.19, 9.65,-0.47, 0.19, 9.62,-0.49, 0.18, 9.55,-0.50, 0.16, 9.54,-0.48, 0.19, 9.62,-0.50, 0.17, 9.55,-0.46, 0.18, 9.58,-0.45, 0.17, 9.56,-0.45, 0.17, 9.60,-0.45, 0.17, 9.62,-0.24, 0.24, 9.81,-0.47, 0.17, 9.61,-0.42, 0.15, 9.55,-0.41, 0.16, 9.69,-0.47, 0.15, 9.59,-0.48, 0.20, 9.60,-0.47, 0.19, 9.63,-0.45, 0.16, 9.59,-0.44, 0.18, 9.61,-0.43, 0.15, 9.60,-0.42, 0.16, 9.66,-0.46, 0.15, 9.65,-0.45, 0.15, 9.64,-0.46, 0.14, 9.61,-0.46, 0.19, 9.60,-0.59, 0.15, 9.66,-0.44, 0.16, 9.58,-0.45, 0.15, 9.59,-0.50, 0.18, 9.65,-0.46, 0.16, 9.62,-0.47, 0.19, 9.62,-0.51, 0.18, 9.56,-0.44, 0.15, 9.55,-0.45, 0.17, 9.55,-0.49, 0.16, 9.54,-0.47, 0.16, 9.53,-0.45, 0.18, 9.59,-0.47, 0.15, 9.58,-0.46, 0.18, 9.57,-0.40, 0.16, 9.59,-0.48, 0.18, 9.59,-0.47, 0.16, 9.66,-0.48, 0.19, 9.56,-0.45, 0.16, 9.59,-0.47, 0.19, 9.66,-0.45, 0.17, 9.66,-0.56, 0.22, 9.43,-0.47, 0.17, 9.60,-0.46, 0.16, 9.56,-0.32, 0.17, 9.61,-0.44, 0.14, 9.57,-0.48, 0.19, 9.60,-0.43, 0.19, 9.64,-0.45, 0.17, 9.63,-0.47, 0.17, 9.59,-0.45, 0.14, 9.62,-0.48, 0.20, 9.66,-0.41, 0.16, 9.64,-0.50, 0.15, 9.64,-0.43, 0.15, 9.60,-0.48, 0.17, 9.55,-0.45, 0.18, 9.58,-0.49, 0.14, 9.58,-0.43, 0.15, 9.56,-0.49, 0.15, 9.57,-0.42, 0.19, 9.56,-0.48, 0.17, 9.59,-0.44, 0.16, 9.51,-0.50, 0.17, 9.59,-0.43, 0.16, 9.55,-0.45, 0.17, 9.54,-0.48, 0.18, 9.61,-0.45, 0.17, 9.59,-0.48, 0.16, 9.58,-0.60, 0.18, 9.58,-0.47, 0.18, 9.64,-0.46, 0.14, 9.60,-0.49, 0.16, 9.53,-0.47, 0.17, 9.57,-0.46, 0.18, 9.60,-0.48, 0.17, 9.62,-0.45, 0.16, 9.54,-0.48, 0.17, 9.62,-0.46, 0.15, 9.60,-0.45, 0.15, 9.55,-0.46, 0.16, 9.62,-0.48, 0.18, 9.61,-0.32, 0.15, 9.63,-0.46, 0.16, 9.57,-0.47, 0.18, 9.65,-0.49, 0.13, 9.57,-0.45, 0.19, 9.51,-0.47, 0.16, 9.56,-0.45, 0.02, 9.54,-0.48, 0.17, 9.60,-0.50, 0.16, 9.52,-0.49, 0.16, 9.57,-0.50, 0.17, 9.55,-0.46, 0.18, 9.56,-0.45, 0.17, 9.57,-0.46, 0.17, 9.61,-0.45, 0.17, 9.63,-0.44, 0.18, 9.57,-0.48, 0.17, 9.55,-0.46, 0.18, 9.55,-0.47, 0.15, 9.61,-0.48, 0.17, 9.62,-0.34, 0.15, 9.59,-0.48, 0.16, 9.60,-0.46, 0.18, 9.57,-0.43, 0.15, 9.59,-0.47, 0.18, 9.54,-0.45, 0.18, 9.51,-0.61, 0.16, 9.63,-0.45, 0.19, 9.54,-0.48, 0.15, 9.55,-0.44, 0.19, 9.53,-0.48, 0.16, 9.58,-0.45, 0.15, 9.59,-0.45, 0.16, 9.61,-0.46, 0.15, 9.61,-0.45, 0.16, 9.53,-0.46, 0.15, 9.52,-0.44, 0.15, 9.56,-0.47, 0.15, 9.54,-0.45, 0.17, 9.53,-0.47, 0.16, 9.49,-0.46, 0.17, 9.49,-0.43, 0.17, 9.50,-0.42, 0.14, 9.63,-0.46, 0.14, 9.62,-0.47, 0.18, 9.61,-0.47, 0.19, 9.51,-0.51, 0.14, 9.50,-0.44, 0.15, 9.63,-0.41, 0.16, 9.63,-0.54, 0.20, 9.47,-0.45, 0.25, 9.31,-0.36, 0.22, 9.85,-0.43, 0.19, 9.55,-0.74, 0.21, 9.23,-0.40, 0.16, 9.61,-0.58, 0.21, 9.38,-0.47, 0.13, 10.24,-0.45, 0.19, 9.59,-0.49, 0.20, 9.62,-0.42, 0.11, 9.52,-0.49, 0.13, 9.59,-0.51, 0.15, 9.54,-0.48, 0.18, 9.56,-0.50, 0.17, 9.56,-0.39, 0.13, 9.54,-0.43, 0.16, 9.51,-0.51, 0.16, 9.55,-0.48, 0.12, 9.58,-0.44, 0.17, 9.58,-0.45, 0.14, 9.58,-0.45, 0.16, 9.54,-0.47, 0.14, 9.60,-0.45, 0.14, 9.61,-0.42, 0.19, 9.57,-0.45, 0.17, 9.62,-0.46, 0.16, 9.57,-0.46, 0.19, 9.55,-0.48, 0.15, 9.58,-0.47, 0.15, 9.57,-0.47, 0.17, 9.52,-0.48, 0.14, 9.56,-0.43, 0.16, 9.57,-0.47, 0.17, 9.57,-0.48, 0.17, 9.61,-0.47, 0.18, 9.52,-0.38, 0.17, 9.60,-0.48, 0.16, 9.55,-0.48, 0.18, 9.53,-0.49, 0.01, 9.49,-0.33, 0.19, 9.62,-0.29, 0.09, 9.82,-0.46, 0.17, 9.53,-0.41, 0.17, 9.50,-0.53, 0.30, 8.99,-0.37, 0.07, 9.62,-0.68, 0.19, 9.13,-0.47, 0.18, 9.60,-0.51, 0.19, 9.44,-0.38, 0.09, 9.75,-0.46, 0.14, 9.56,-0.45, 0.15, 9.55,-0.47, 0.19, 9.55,-0.61, 0.17, 9.51,-0.46, 0.18, 9.51,-0.46, 0.15, 9.53,-0.43, 0.17, 9.61,-0.09, 0.06, 10.31,-0.50, 0.17, 9.51,-0.46, 0.20, 9.59,-0.48, 0.16, 9.60,-0.46, 0.15, 9.60,-0.42, 0.15, 9.57,-0.45, 0.17, 9.55,-0.44, 0.16, 9.56,-0.46, 0.17, 9.55,-0.61, 0.16, 9.52,-0.46, 0.19, 9.51,-0.51, 0.15, 9.50,-0.43, 0.17, 9.51,-0.45, 0.16, 9.56,-0.46, 0.30, 9.58,-0.53, 0.18, 9.44,-0.41, 0.14, 9.58,-0.47, 0.17, 9.63,-0.48, 0.18, 9.59,-0.41, 0.18, 9.59,-0.49, 0.14, 9.60,-0.45, 0.18, 9.57,-0.46, 0.20, 9.52,-0.45, 0.17, 9.55,-0.45, 0.18, 9.59,-0.46, 0.16, 9.57,-0.47, 0.16, 9.63,-0.47, 0.16, 9.54,-0.35, 0.17, 9.55,-0.45, 0.17, 9.64,-0.50, 0.14, 9.57,-0.43, 0.17, 9.55,-0.48, 0.18, 9.61,-0.46, 0.15, 9.56,-0.45, 0.15, 9.57,-0.43, 0.15, 9.48,-0.44, 0.14, 9.52,-0.47, 0.18, 9.54,-0.49, 0.17, 9.51,-0.48, 0.16, 9.56,-0.45, 0.15, 9.55,-0.33, 0.17, 9.50,-0.45, 0.15, 9.56,-0.50, 0.17, 9.53,-0.47, 0.17, 9.52,-0.49, 0.16, 9.54,-0.46, 0.16, 9.56,-0.48, 0.01, 9.53,-0.49, 0.17, 9.58,-0.42, 0.16, 9.60,-0.48, 0.18, 9.50,-0.49, 0.18, 9.55,-0.43, 0.14, 9.56,-0.45, 0.25, 9.60,-0.47, 0.20, 9.58,-0.45, 0.15, 9.61,-0.49, 0.19, 9.59,-0.52, 0.17, 9.55,'\n",
            "[-0.5   0.17  9.45 ... -0.52  0.17  9.55] (3015,)\n"
          ],
          "name": "stdout"
        }
      ]
    },
    {
      "metadata": {
        "id": "ruJe_prRvGJR",
        "colab_type": "code",
        "outputId": "c8fe1224-4871-4c50-fe6c-9872371c12c1",
        "colab": {
          "base_uri": "https://localhost:8080/",
          "height": 85
        }
      },
      "cell_type": "code",
      "source": [
        "clf = svm.SVC(gamma='scale')\n",
        "clf.fit(data, labels )"
      ],
      "execution_count": 40,
      "outputs": [
        {
          "output_type": "execute_result",
          "data": {
            "text/plain": [
              "SVC(C=1.0, cache_size=200, class_weight=None, coef0=0.0,\n",
              "  decision_function_shape='ovr', degree=3, gamma='scale', kernel='rbf',\n",
              "  max_iter=-1, probability=False, random_state=None, shrinking=True,\n",
              "  tol=0.001, verbose=False)"
            ]
          },
          "metadata": {
            "tags": []
          },
          "execution_count": 40
        }
      ]
    },
    {
      "metadata": {
        "id": "s3yzG9gGvz6J",
        "colab_type": "code",
        "outputId": "35969f32-3299-400f-b81b-368f88bdde8e",
        "colab": {
          "base_uri": "https://localhost:8080/",
          "height": 34
        }
      },
      "cell_type": "code",
      "source": [
        "clf.predict([[0, 9, 0]])"
      ],
      "execution_count": 43,
      "outputs": [
        {
          "output_type": "execute_result",
          "data": {
            "text/plain": [
              "array(['front_down_right.txt'], dtype='<U20')"
            ]
          },
          "metadata": {
            "tags": []
          },
          "execution_count": 43
        }
      ]
    },
    {
      "metadata": {
        "id": "l4WctMmWyMB_",
        "colab_type": "code",
        "colab": {}
      },
      "cell_type": "code",
      "source": [
        ""
      ],
      "execution_count": 0,
      "outputs": []
    }
  ]
}